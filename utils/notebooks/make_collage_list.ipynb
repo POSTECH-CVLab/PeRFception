{
 "cells": [
  {
   "cell_type": "code",
   "execution_count": 27,
   "metadata": {},
   "outputs": [],
   "source": [
    "import os\n",
    "import json\n",
    "import numpy as np"
   ]
  },
  {
   "cell_type": "code",
   "execution_count": 28,
   "metadata": {},
   "outputs": [],
   "source": [
    "logpath = \"../../logs\"\n",
    "loglist = os.listdir(logpath)\n",
    "loglistpath = [os.path.join(logpath, f) for f in loglist]"
   ]
  },
  {
   "cell_type": "code",
   "execution_count": 47,
   "metadata": {},
   "outputs": [],
   "source": [
    "cls_list, ssim_list = [], []\n",
    "\n",
    "for fpath in loglistpath:\n",
    "    json_path = os.path.join(fpath, \"results.json\")\n",
    "    txt_path = os.path.join(fpath, \"class_info.txt\")\n",
    "    with open(json_path) as fp:\n",
    "        json_file = json.load(fp)\n",
    "    with open(txt_path) as fp:\n",
    "        txt_path = fp.readline()\n",
    "    ssim_list.append(json_file[\"SSIM\"][\"test\"])\n",
    "    cls_list.append(txt_path)\n",
    "\n",
    "ssim_list = np.array(ssim_list)"
   ]
  },
  {
   "cell_type": "code",
   "execution_count": 48,
   "metadata": {},
   "outputs": [
    {
     "name": "stdout",
     "output_type": "stream",
     "text": [
      "0.9771251082420349\n"
     ]
    }
   ],
   "source": [
    "argsort = np.argsort(ssim_list)[::-1]\n",
    "print(ssim_list[argsort[0]])\n",
    "\n",
    "scene_list, cls_scene_list = [], []\n",
    "for idx in argsort:\n",
    "    if len(scene_list) == 50:\n",
    "        break\n",
    "    cls_name = cls_list[idx]\n",
    "    ssim_score = ssim_list[idx]\n",
    "    if cls_name in cls_scene_list: continue\n",
    "    cls_scene_list.append(cls_name)\n",
    "    scene_list.append(loglist[idx])\n",
    "\n",
    "parsed_scene_name = [\"_\".join(scene_name.split(\"_\")[2:]) for scene_name in scene_list]"
   ]
  },
  {
   "cell_type": "code",
   "execution_count": 50,
   "metadata": {},
   "outputs": [],
   "source": [
    "with open(\"collage.sh\", \"w\") as fp:\n",
    "    for scene in parsed_scene_name:\n",
    "        fp.write(\n",
    "            f\"python3 -m run --ginc configs/co3d.gin --scene_name {scene} --ginb run.run_train=False  --ginb run.run_eval=False --ginb run.run_render=True --ginb load_co3d_data.render_scene_interp=True\\n\"\n",
    "        )"
   ]
  },
  {
   "cell_type": "code",
   "execution_count": null,
   "metadata": {},
   "outputs": [],
   "source": []
  }
 ],
 "metadata": {
  "kernelspec": {
   "display_name": "Python 3.8.13 ('perfception')",
   "language": "python",
   "name": "python3"
  },
  "language_info": {
   "codemirror_mode": {
    "name": "ipython",
    "version": 3
   },
   "file_extension": ".py",
   "mimetype": "text/x-python",
   "name": "python",
   "nbconvert_exporter": "python",
   "pygments_lexer": "ipython3",
   "version": "3.8.13"
  },
  "orig_nbformat": 4,
  "vscode": {
   "interpreter": {
    "hash": "b471587bbe11c509fa4c273e3c27dad8d0f74f51357e50e66bf733daf1d8a5fb"
   }
  }
 },
 "nbformat": 4,
 "nbformat_minor": 2
}
