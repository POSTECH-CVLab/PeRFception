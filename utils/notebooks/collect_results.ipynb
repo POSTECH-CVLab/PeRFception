{
 "cells": [
  {
   "cell_type": "code",
   "execution_count": 26,
   "metadata": {},
   "outputs": [],
   "source": [
    "import os\n",
    "import json\n",
    "import numpy as np"
   ]
  },
  {
   "cell_type": "code",
   "execution_count": 27,
   "metadata": {},
   "outputs": [],
   "source": [
    "path_to_co3d_perf = \"/home/yoonwoo/data/perfception/perfception_co3d\""
   ]
  },
  {
   "cell_type": "code",
   "execution_count": 28,
   "metadata": {},
   "outputs": [],
   "source": [
    "psnr, ssim, lpips = [], [], []\n",
    "nan = []\n",
    "missing = []\n",
    "\n",
    "for scene in sorted(os.listdir(path_to_co3d_perf)):\n",
    "    scene_path = os.path.join(path_to_co3d_perf, scene)\n",
    "    result_path = os.path.join(scene_path, \"results.json\")\n",
    "    if os.path.exists(result_path):\n",
    "        with open(result_path, \"r\") as fp:\n",
    "            json_file = json.load(fp)\n",
    "        psnr.append(json_file[\"PSNR\"][\"test\"])\n",
    "        ssim.append(json_file[\"SSIM\"][\"test\"])\n",
    "        lpips_curr = json_file[\"LPIPS\"][\"test\"]\n",
    "        if np.isnan(lpips_curr):\n",
    "            nan.append(scene_path)\n",
    "        else:\n",
    "            lpips.append(json_file[\"LPIPS\"][\"test\"])\n",
    "    else:\n",
    "        missing.append(scene_path)"
   ]
  },
  {
   "cell_type": "code",
   "execution_count": 33,
   "metadata": {},
   "outputs": [
    {
     "name": "stdout",
     "output_type": "stream",
     "text": [
      "PSNR :  28.816426871881763\n",
      "SSIM :  0.8564840038082171\n",
      "LPIPS :  0.34507738965239027\n",
      "0.00021483430903915354\n",
      "PSNR > 20 0.9980664912186477\n",
      "PSNR > 20 0.9824372952360492\n",
      "PSNR > 20 0.872603254739782\n"
     ]
    }
   ],
   "source": [
    "psnr = np.array(psnr)\n",
    "ssim = np.array(ssim)\n",
    "lpips = np.array(lpips)\n",
    "\n",
    "print(\"PSNR : \", psnr.mean())\n",
    "print(\"SSIM : \", ssim.mean())\n",
    "print(\"LPIPS : \", lpips.mean())\n",
    "print(len(nan) / len(psnr))\n",
    "print(\"PSNR > 20\", (psnr > 15).mean())\n",
    "print(\"PSNR > 20\", (psnr > 20).mean())\n",
    "print(\"PSNR > 20\", (psnr > 25).mean())"
   ]
  },
  {
   "cell_type": "code",
   "execution_count": 31,
   "metadata": {},
   "outputs": [
    {
     "data": {
      "text/plain": [
       "[]"
      ]
     },
     "execution_count": 31,
     "metadata": {},
     "output_type": "execute_result"
    }
   ],
   "source": [
    "missing"
   ]
  },
  {
   "cell_type": "code",
   "execution_count": null,
   "metadata": {},
   "outputs": [],
   "source": []
  }
 ],
 "metadata": {
  "interpreter": {
   "hash": "68327cb5290cd066fc32988c700987102dfc6b9931a40b8ea9c47728386b26ed"
  },
  "kernelspec": {
   "display_name": "Python 3.8.5 ('nerf_factory')",
   "language": "python",
   "name": "python3"
  },
  "language_info": {
   "codemirror_mode": {
    "name": "ipython",
    "version": 3
   },
   "file_extension": ".py",
   "mimetype": "text/x-python",
   "name": "python",
   "nbconvert_exporter": "python",
   "pygments_lexer": "ipython3",
   "version": "3.8.5"
  },
  "orig_nbformat": 4
 },
 "nbformat": 4,
 "nbformat_minor": 2
}
