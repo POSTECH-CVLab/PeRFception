{
 "cells": [
  {
   "cell_type": "markdown",
   "metadata": {},
   "source": [
    "# Generating Co3D Data List"
   ]
  },
  {
   "cell_type": "markdown",
   "metadata": {},
   "source": [
    "The code below loads whole Co3D dataset to "
   ]
  },
  {
   "cell_type": "code",
   "execution_count": 5,
   "metadata": {},
   "outputs": [],
   "source": [
    "path_to_co3d = \"/home/yoonwoo/data/perfception/co3d\""
   ]
  },
  {
   "cell_type": "code",
   "execution_count": 6,
   "metadata": {},
   "outputs": [],
   "source": [
    "import json\n",
    "import os \n",
    "project_path = \"../..\""
   ]
  },
  {
   "cell_type": "code",
   "execution_count": 7,
   "metadata": {},
   "outputs": [],
   "source": [
    "frame_num_mapper = {}\n",
    "\n",
    "cls_list = [cls_name for cls_name in sorted(os.listdir(path_to_co3d))]\n",
    "for cls_name in cls_list: \n",
    "    cls_path = os.path.join(path_to_co3d, cls_name)\n",
    "    for frame_num in sorted(os.listdir(cls_path)):\n",
    "        frame_path = os.path.join(cls_path, frame_num)\n",
    "        if not os.path.isdir(frame_path): \n",
    "            continue\n",
    "        frame_num_mapper[frame_num] = cls_name"
   ]
  },
  {
   "cell_type": "code",
   "execution_count": 8,
   "metadata": {},
   "outputs": [],
   "source": [
    "with open(\"../../dataloader/co3d_lists/co3d_list.json\", \"w\") as fp:\n",
    "    json.dump(frame_num_mapper, fp, indent=4, sort_keys=True)"
   ]
  },
  {
   "cell_type": "code",
   "execution_count": 18,
   "metadata": {},
   "outputs": [],
   "source": [
    "import json\n",
    "import yaml\n",
    "\n",
    "with open(\"../../dataloader/co3d_lists/co3d_list.json\") as fp:\n",
    "    co3d_lists = json.load(fp)\n",
    "\n",
    "co3d_scene_lists = sorted(co3d_lists.keys())\n",
    "\n",
    "def generate_sweep_co3d():\n",
    "    params = dict()\n",
    "    params[\"scene_name\"] = dict(values=co3d_scene_lists)\n",
    "    params[\"entity\"] = dict(value=\"postech_cvlab\")\n",
    "    config = dict()\n",
    "    config[\"method\"] = \"grid\"\n",
    "    config[\"program\"] = \"run.py\"\n",
    "    config[\"parameters\"] = params\n",
    "    with open(\"../../cache/co3d.yaml\", \"w\") as fp:\n",
    "        yaml.dump(config, fp)\n",
    "\n",
    "generate_sweep_co3d()"
   ]
  },
  {
   "cell_type": "markdown",
   "metadata": {},
   "source": [
    "# Generating CO3D-v2 Data List"
   ]
  },
  {
   "cell_type": "code",
   "execution_count": 2,
   "metadata": {},
   "outputs": [],
   "source": [
    "path_to_co3d_v2 = \"../../data/co3d_v2\""
   ]
  },
  {
   "cell_type": "code",
   "execution_count": 3,
   "metadata": {},
   "outputs": [],
   "source": [
    "import os, json"
   ]
  },
  {
   "cell_type": "code",
   "execution_count": 4,
   "metadata": {},
   "outputs": [],
   "source": [
    "frame_num_mapper = {}\n",
    "\n",
    "cls_list = [cls_name for cls_name in sorted(os.listdir(path_to_co3d_v2))]\n",
    "for cls_name in cls_list: \n",
    "    cls_path = os.path.join(path_to_co3d_v2, cls_name)\n",
    "    for frame_num in sorted(os.listdir(cls_path)):\n",
    "        frame_path = os.path.join(cls_path, frame_num)\n",
    "        if not os.path.isdir(frame_path): \n",
    "            continue\n",
    "        frame_num_mapper[frame_num] = cls_name"
   ]
  },
  {
   "cell_type": "code",
   "execution_count": 5,
   "metadata": {},
   "outputs": [],
   "source": [
    "with open(\"../../dataloader/co3d_lists/co3d_list.json\", \"w\") as fp:\n",
    "    json.dump(frame_num_mapper, fp, indent=4, sort_keys=True)"
   ]
  },
  {
   "cell_type": "code",
   "execution_count": 2,
   "metadata": {},
   "outputs": [],
   "source": [
    "import json\n",
    "import yaml\n",
    "\n",
    "with open(\"../../dataloader/co3d_lists/co3d_list.json\") as fp:\n",
    "    co3d_lists = json.load(fp)\n",
    "\n",
    "co3d_scene_lists = sorted(co3d_lists.keys())\n",
    "\n",
    "def generate_sweep_co3d(postfix, scene_list):\n",
    "    params = dict()\n",
    "    params[\"scene_name\"] = dict(values=scene_list)\n",
    "    params[\"entity\"] = dict(value=\"postech_cvlab\")\n",
    "    config = dict()\n",
    "    config[\"method\"] = \"grid\"\n",
    "    config[\"program\"] = \"run.py\"\n",
    "    config[\"parameters\"] = params\n",
    "    with open(f\"../../cache/co3d_{postfix}.yaml\", \"w\") as fp:\n",
    "        yaml.dump(config, fp)\n",
    "\n",
    "postfix = [\"yoonwoo\", \"junha\", \"seungjoo\"]\n",
    "generate_sweep_co3d(postfix[0], co3d_scene_lists[0::3])\n",
    "generate_sweep_co3d(postfix[1], co3d_scene_lists[1::3])\n",
    "generate_sweep_co3d(postfix[2], co3d_scene_lists[2::3])"
   ]
  },
  {
   "cell_type": "code",
   "execution_count": 4,
   "metadata": {},
   "outputs": [],
   "source": [
    "with open(\"../../cache/co3d_yoonwoo.yaml\") as fp:\n",
    "    yaml_yw = yaml.load(fp, yaml.FullLoader)\n",
    "with open(\"../../cache/co3d_junha.yaml\") as fp:\n",
    "    yaml_jh = yaml.load(fp, yaml.FullLoader)\n",
    "with open(\"../../cache/co3d_seungjoo.yaml\") as fp:\n",
    "    yaml_sj = yaml.load(fp, yaml.FullLoader)"
   ]
  },
  {
   "cell_type": "code",
   "execution_count": 10,
   "metadata": {},
   "outputs": [
    {
     "name": "stdout",
     "output_type": "stream",
     "text": [
      "36507 36507\n"
     ]
    }
   ],
   "source": [
    "len_yw = len(yaml_yw[\"parameters\"][\"scene_name\"][\"values\"])\n",
    "len_jh = len(yaml_jh[\"parameters\"][\"scene_name\"][\"values\"])\n",
    "len_sj = len(yaml_sj[\"parameters\"][\"scene_name\"][\"values\"])\n",
    "print(len(co3d_scene_lists), len_yw + len_sj + len_jh)"
   ]
  },
  {
   "cell_type": "code",
   "execution_count": null,
   "metadata": {},
   "outputs": [],
   "source": []
  }
 ],
 "metadata": {
  "kernelspec": {
   "display_name": "perfception",
   "language": "python",
   "name": "python3"
  },
  "language_info": {
   "codemirror_mode": {
    "name": "ipython",
    "version": 3
   },
   "file_extension": ".py",
   "mimetype": "text/x-python",
   "name": "python",
   "nbconvert_exporter": "python",
   "pygments_lexer": "ipython3",
   "version": "3.8.13"
  },
  "orig_nbformat": 4,
  "vscode": {
   "interpreter": {
    "hash": "b471587bbe11c509fa4c273e3c27dad8d0f74f51357e50e66bf733daf1d8a5fb"
   }
  }
 },
 "nbformat": 4,
 "nbformat_minor": 2
}
