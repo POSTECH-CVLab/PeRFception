{
 "cells": [
  {
   "cell_type": "markdown",
   "metadata": {},
   "source": [
    "# Generating Co3D Data List"
   ]
  },
  {
   "cell_type": "markdown",
   "metadata": {},
   "source": [
    "The code below loads whole Co3D dataset to "
   ]
  },
  {
   "cell_type": "code",
   "execution_count": 1,
   "metadata": {},
   "outputs": [],
   "source": [
    "path_to_co3d = \"/home/yoonwoo/data/perfception/co3d\""
   ]
  },
  {
   "cell_type": "code",
   "execution_count": 2,
   "metadata": {},
   "outputs": [],
   "source": [
    "import json\n",
    "import os \n",
    "project_path = \"../..\""
   ]
  },
  {
   "cell_type": "code",
   "execution_count": 10,
   "metadata": {},
   "outputs": [],
   "source": [
    "frame_num_mapper = {}\n",
    "\n",
    "cls_list = [cls_name for cls_name in sorted(os.listdir(path_to_co3d))]\n",
    "for cls_name in cls_list: \n",
    "    cls_path = os.path.join(path_to_co3d, cls_name)\n",
    "    for frame_num in sorted(os.listdir(cls_path)):\n",
    "        frame_path = os.path.join(cls_path, frame_num)\n",
    "        if not os.path.isdir(frame_path): \n",
    "            continue\n",
    "        frame_num_mapper[frame_num] = cls_name"
   ]
  },
  {
   "cell_type": "code",
   "execution_count": 15,
   "metadata": {},
   "outputs": [],
   "source": [
    "with open(\"../../dataloader/co3d_lists/co3d_list.json\", \"w\") as fp:\n",
    "    json.dump(frame_num_mapper, fp, indent=4, sort_keys=True)"
   ]
  },
  {
   "cell_type": "code",
   "execution_count": null,
   "metadata": {},
   "outputs": [],
   "source": []
  }
 ],
 "metadata": {
  "interpreter": {
   "hash": "68327cb5290cd066fc32988c700987102dfc6b9931a40b8ea9c47728386b26ed"
  },
  "kernelspec": {
   "display_name": "Python 3.8.5 ('nerf_factory')",
   "language": "python",
   "name": "python3"
  },
  "language_info": {
   "codemirror_mode": {
    "name": "ipython",
    "version": 3
   },
   "file_extension": ".py",
   "mimetype": "text/x-python",
   "name": "python",
   "nbconvert_exporter": "python",
   "pygments_lexer": "ipython3",
   "version": "3.8.5"
  },
  "orig_nbformat": 4
 },
 "nbformat": 4,
 "nbformat_minor": 2
}
