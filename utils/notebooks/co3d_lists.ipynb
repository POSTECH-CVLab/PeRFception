{
 "cells": [
  {
   "cell_type": "markdown",
   "metadata": {},
   "source": [
    "# Generating Co3D Data List"
   ]
  },
  {
   "cell_type": "markdown",
   "metadata": {},
   "source": [
    "The code below loads whole Co3D dataset to "
   ]
  },
  {
   "cell_type": "code",
   "execution_count": 5,
   "metadata": {},
   "outputs": [],
   "source": [
    "path_to_co3d = \"/home/yoonwoo/data/perfception/co3d\""
   ]
  },
  {
   "cell_type": "code",
   "execution_count": 6,
   "metadata": {},
   "outputs": [],
   "source": [
    "import json\n",
    "import os \n",
    "project_path = \"../..\""
   ]
  },
  {
   "cell_type": "code",
   "execution_count": 7,
   "metadata": {},
   "outputs": [],
   "source": [
    "frame_num_mapper = {}\n",
    "\n",
    "cls_list = [cls_name for cls_name in sorted(os.listdir(path_to_co3d))]\n",
    "for cls_name in cls_list: \n",
    "    cls_path = os.path.join(path_to_co3d, cls_name)\n",
    "    for frame_num in sorted(os.listdir(cls_path)):\n",
    "        frame_path = os.path.join(cls_path, frame_num)\n",
    "        if not os.path.isdir(frame_path): \n",
    "            continue\n",
    "        frame_num_mapper[frame_num] = cls_name"
   ]
  },
  {
   "cell_type": "code",
   "execution_count": 8,
   "metadata": {},
   "outputs": [],
   "source": [
    "with open(\"../../dataloader/co3d_lists/co3d_list.json\", \"w\") as fp:\n",
    "    json.dump(frame_num_mapper, fp, indent=4, sort_keys=True)"
   ]
  },
  {
   "cell_type": "code",
   "execution_count": 18,
   "metadata": {},
   "outputs": [],
   "source": [
    "import json\n",
    "import yaml\n",
    "\n",
    "with open(\"../../dataloader/co3d_lists/co3d_list.json\") as fp:\n",
    "    co3d_lists = json.load(fp)\n",
    "\n",
    "co3d_scene_lists = sorted(co3d_lists.keys())\n",
    "\n",
    "def generate_sweep_co3d():\n",
    "    params = dict()\n",
    "    params[\"scene_name\"] = dict(values=co3d_scene_lists)\n",
    "    params[\"entity\"] = dict(value=\"postech_cvlab\")\n",
    "    config = dict()\n",
    "    config[\"method\"] = \"grid\"\n",
    "    config[\"program\"] = \"run.py\"\n",
    "    config[\"parameters\"] = params\n",
    "    with open(\"../../cache/co3d.yaml\", \"w\") as fp:\n",
    "        yaml.dump(config, fp)\n",
    "\n",
    "generate_sweep_co3d()"
   ]
  },
  {
   "cell_type": "code",
   "execution_count": null,
   "metadata": {},
   "outputs": [],
   "source": []
  }
 ],
 "metadata": {
  "kernelspec": {
   "display_name": "Python 3.8.10 64-bit",
   "language": "python",
   "name": "python3"
  },
  "language_info": {
   "codemirror_mode": {
    "name": "ipython",
    "version": 3
   },
   "file_extension": ".py",
   "mimetype": "text/x-python",
   "name": "python",
   "nbconvert_exporter": "python",
   "pygments_lexer": "ipython3",
   "version": "3.8.10"
  },
  "orig_nbformat": 4,
  "vscode": {
   "interpreter": {
    "hash": "31f2aee4e71d21fbe5cf8b01ff0e069b9275f58929596ceb00d14d90e3e16cd6"
   }
  }
 },
 "nbformat": 4,
 "nbformat_minor": 2
}
