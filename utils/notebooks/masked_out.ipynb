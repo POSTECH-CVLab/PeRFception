{
 "cells": [
  {
   "cell_type": "code",
   "execution_count": 10,
   "metadata": {},
   "outputs": [],
   "source": [
    "import os\n",
    "from PIL import Image \n",
    "import numpy as np\n",
    "import tqdm\n",
    "import json\n",
    "import gzip"
   ]
  },
  {
   "cell_type": "code",
   "execution_count": 19,
   "metadata": {},
   "outputs": [],
   "source": [
    "with open(\"../../dataloader/co3d_lists/co3d_list.json\") as fp:\n",
    "    co3d_lists = json.load(fp)\n",
    "\n",
    "ours_path = os.path.join(\"/home/yoonwoo/data/perfception/perfception_co3d\")\n",
    "co3d_path = os.path.join(\"/home/yoonwoo/data/perfception/co3d\")\n",
    "\n",
    "\n",
    "for (k, v) in co3d_lists.items():\n",
    "    basedir = os.path.join(co3d_path, v)\n",
    "    co3d_curr = os.path.join(co3d_path, v)\n",
    "    json_path = os.path.join(basedir, \"frame_annotations.jgz\")\n",
    "    with gzip.open(json_path, \"r\") as fp:\n",
    "        all_frames_data = json.load(fp)\n",
    "\n",
    "    frame_data, images, intrinsics, extrinsics, image_sizes = [], [], [], [], []\n",
    "\n",
    "    for temporal_data in all_frames_data:\n",
    "        if temporal_data[\"sequence_name\"] == k:\n",
    "            frame_data.append(temporal_data)\n",
    "\n",
    "    test_frame_data = frame_data[::10]\n",
    "    test_fname = [os.path.join(co3d_path, frame[\"image\"][\"path\"]) for frame in test_frame_data]\n",
    "    mask_fname = [os.path.join(co3d_path, frame[\"mask\"][\"path\"]) for frame in test_frame_data]\n",
    "\n",
    "    test_img = [np.asarray(Image.open(fname)) for fname in test_fname]\n",
    "    mask_img = [np.asarray(Image.open(fname)) for fname in mask_fname]\n",
    "\n",
    "    ours_curr = os.path.join(ours_path, \"render_model\")\n",
    "    break"
   ]
  },
  {
   "cell_type": "code",
   "execution_count": 21,
   "metadata": {},
   "outputs": [
    {
     "data": {
      "text/plain": [
       "(2000, 1086)"
      ]
     },
     "execution_count": 21,
     "metadata": {},
     "output_type": "execute_result"
    }
   ],
   "source": [
    "mask_img[0].shape"
   ]
  },
  {
   "cell_type": "code",
   "execution_count": null,
   "metadata": {},
   "outputs": [],
   "source": []
  }
 ],
 "metadata": {
  "interpreter": {
   "hash": "68f3718ea42175570df1c98c46be3c56e287215895583cda485fe92d043b42e4"
  },
  "kernelspec": {
   "display_name": "Python 3.8.5 ('atp')",
   "language": "python",
   "name": "python3"
  },
  "language_info": {
   "codemirror_mode": {
    "name": "ipython",
    "version": 3
   },
   "file_extension": ".py",
   "mimetype": "text/x-python",
   "name": "python",
   "nbconvert_exporter": "python",
   "pygments_lexer": "ipython3",
   "version": "3.8.5"
  },
  "orig_nbformat": 4
 },
 "nbformat": 4,
 "nbformat_minor": 2
}
