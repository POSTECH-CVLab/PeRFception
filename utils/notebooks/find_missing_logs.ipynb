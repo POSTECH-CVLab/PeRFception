{
 "cells": [
  {
   "cell_type": "code",
   "execution_count": null,
   "metadata": {},
   "outputs": [],
   "source": [
    "import os\n",
    "import shutil\n",
    "import json\n",
    "import yaml"
   ]
  },
  {
   "cell_type": "code",
   "execution_count": null,
   "metadata": {},
   "outputs": [],
   "source": [
    "path_to_perf_co3d = \"/home/yoonwoo/data/perfception/perfception_co3d\""
   ]
  },
  {
   "cell_type": "code",
   "execution_count": null,
   "metadata": {},
   "outputs": [],
   "source": [
    "cnt = 0\n",
    "co3d_lists = os.listdir(path_to_perf_co3d)\n",
    "for co3d_dir_name in co3d_lists:\n",
    "    co3d_dir_path = os.path.join(path_to_perf_co3d, co3d_dir_name)\n",
    "    results_path = os.path.join(co3d_dir_path, \"results.json\")\n",
    "    if not os.path.exists(results_path):\n",
    "        # shutil.rmtree(co3d_dir_path)\n",
    "        cnt += 1\n",
    "print(cnt, len(co3d_lists))"
   ]
  },
  {
   "cell_type": "code",
   "execution_count": null,
   "metadata": {},
   "outputs": [],
   "source": [
    "with open(\"../../dataloader/co3d_lists/co3d_list.json\") as fp:\n",
    "    co3d_all_lists = json.load(fp)\n",
    "\n",
    "co3d_lists = os.listdir(path_to_perf_co3d)\n",
    "print(co3d_lists[0], list(co3d_all_lists.keys())[0])\n",
    "co3d_missing_scene_list = []\n",
    "for co3d_dir_name in co3d_all_lists.keys():\n",
    "    if \"plenoxel_co3d_\" + co3d_dir_name not in co3d_lists:\n",
    "        co3d_missing_scene_list.append(co3d_dir_name)\n",
    "\n",
    "def generate_sweep_co3d():\n",
    "    params = dict()\n",
    "    params[\"scene_name\"] = dict(values=co3d_missing_scene_list)\n",
    "    params[\"entity\"] = dict(value=\"postech_cvlab\")\n",
    "    config = dict()\n",
    "    config[\"method\"] = \"grid\"\n",
    "    config[\"program\"] = \"run.py\"\n",
    "    config[\"parameters\"] = params\n",
    "    with open(\"../../cache/co3d_missing.yaml\", \"w\") as fp:\n",
    "        yaml.dump(config, fp)\n",
    "\n",
    "generate_sweep_co3d()"
   ]
  },
  {
   "cell_type": "code",
   "execution_count": null,
   "metadata": {},
   "outputs": [],
   "source": []
  }
 ],
 "metadata": {
  "interpreter": {
   "hash": "68327cb5290cd066fc32988c700987102dfc6b9931a40b8ea9c47728386b26ed"
  },
  "kernelspec": {
   "display_name": "Python 3.8.5 ('nerf_factory')",
   "language": "python",
   "name": "python3"
  },
  "language_info": {
   "codemirror_mode": {
    "name": "ipython",
    "version": 3
   },
   "file_extension": ".py",
   "mimetype": "text/x-python",
   "name": "python",
   "nbconvert_exporter": "python",
   "pygments_lexer": "ipython3",
   "version": "3.8.5"
  },
  "orig_nbformat": 4
 },
 "nbformat": 4,
 "nbformat_minor": 2
}
