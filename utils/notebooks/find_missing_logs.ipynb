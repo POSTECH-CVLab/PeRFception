{
 "cells": [
  {
   "cell_type": "code",
   "execution_count": null,
   "metadata": {},
   "outputs": [],
   "source": [
    "import os\n",
    "import shutil\n",
    "import json\n",
    "import yaml"
   ]
  },
  {
   "cell_type": "code",
   "execution_count": null,
   "metadata": {},
   "outputs": [],
   "source": [
    "path_to_perf_co3d = \"/home/yoonwoo/data/perfception/perfception_co3d\""
   ]
  },
  {
   "cell_type": "code",
   "execution_count": null,
   "metadata": {},
   "outputs": [],
   "source": [
    "cnt = 0\n",
    "co3d_lists = os.listdir(path_to_perf_co3d)\n",
    "for co3d_dir_name in co3d_lists:\n",
    "    co3d_dir_path = os.path.join(path_to_perf_co3d, co3d_dir_name)\n",
    "    results_path = os.path.join(co3d_dir_path, \"results.json\")\n",
    "    if not os.path.exists(results_path):\n",
    "        # shutil.rmtree(co3d_dir_path)\n",
    "        cnt += 1\n",
    "print(cnt, len(co3d_lists))"
   ]
  },
  {
   "cell_type": "code",
   "execution_count": null,
   "metadata": {},
   "outputs": [],
   "source": [
    "with open(\"../../dataloader/co3d_lists/co3d_list.json\") as fp:\n",
    "    co3d_all_lists = json.load(fp)\n",
    "\n",
    "co3d_lists = os.listdir(path_to_perf_co3d)\n",
    "print(co3d_lists[0], list(co3d_all_lists.keys())[0])\n",
    "co3d_missing_scene_list = []\n",
    "for co3d_dir_name in co3d_all_lists.keys():\n",
    "    if \"plenoxel_co3d_\" + co3d_dir_name not in co3d_lists:\n",
    "        co3d_missing_scene_list.append(co3d_dir_name)\n",
    "\n",
    "def generate_sweep_co3d():\n",
    "    params = dict()\n",
    "    params[\"scene_name\"] = dict(values=co3d_missing_scene_list)\n",
    "    params[\"entity\"] = dict(value=\"postech_cvlab\")\n",
    "    config = dict()\n",
    "    config[\"method\"] = \"grid\"\n",
    "    config[\"program\"] = \"run.py\"\n",
    "    config[\"parameters\"] = params\n",
    "    with open(\"../../cache/co3d_missing.yaml\", \"w\") as fp:\n",
    "        yaml.dump(config, fp)\n",
    "\n",
    "generate_sweep_co3d()"
   ]
  },
  {
   "cell_type": "markdown",
   "metadata": {},
   "source": [
    "# Find missing logs for rendering"
   ]
  },
  {
   "cell_type": "code",
   "execution_count": 22,
   "metadata": {},
   "outputs": [],
   "source": [
    "import os\n",
    "import json\n",
    "import yaml\n",
    "import shutil"
   ]
  },
  {
   "cell_type": "code",
   "execution_count": 30,
   "metadata": {},
   "outputs": [],
   "source": [
    "rendered_data_path = \"/home/yoonwoo/data/render\"\n",
    "assert os.path.exists(rendered_data_path)\n",
    "with open(\"../../dataloader/co3d_lists/co3d_list.json\") as fp:\n",
    "    co3d_all_lists = json.load(fp)\n",
    "\n",
    "co3d_missing_scene_list = []\n",
    "for (scene_number, class_name) in co3d_all_lists.items():\n",
    "    dirpath = os.path.join(rendered_data_path, class_name, scene_number)\n",
    "    bgpath = os.path.join(dirpath, \"bg\")\n",
    "    if not os.path.exists(os.path.join(bgpath, \"image049.jpg\")): \n",
    "        co3d_missing_scene_list.append(scene_number)\n",
    "        # if os.path.exists(dirpath):\n",
    "        #     shutil.rmtree(dirpath)\n",
    "        print(bgpath)"
   ]
  },
  {
   "cell_type": "code",
   "execution_count": 20,
   "metadata": {},
   "outputs": [],
   "source": [
    "def generate_sweep_co3d():\n",
    "    params = dict()\n",
    "    params[\"scene_name\"] = dict(values=co3d_missing_scene_list)\n",
    "    params[\"entity\"] = dict(value=\"postech_cvlab\")\n",
    "    config = dict()\n",
    "    config[\"method\"] = \"grid\"\n",
    "    config[\"program\"] = \"run.py\"\n",
    "    config[\"parameters\"] = params\n",
    "    with open(\"../../cache/co3d_missing.yaml\", \"w\") as fp:\n",
    "        yaml.dump(config, fp)\n",
    "\n",
    "generate_sweep_co3d()"
   ]
  },
  {
   "cell_type": "code",
   "execution_count": 29,
   "metadata": {},
   "outputs": [],
   "source": [
    "# Move the rendered results back\n",
    "import os\n",
    "rendered_dir = \"../../render\"\n",
    "for cls_name in os.listdir(rendered_dir):\n",
    "    cls_path = os.path.join(rendered_dir, cls_name) \n",
    "    for scene_num in os.listdir(cls_path):\n",
    "        scene_path = os.path.join(cls_path, scene_num)\n",
    "        scene_mv_to = os.path.join(rendered_data_path, cls_name, scene_num)\n",
    "        shutil.copytree(scene_path, scene_mv_to)"
   ]
  },
  {
   "cell_type": "code",
   "execution_count": 48,
   "metadata": {},
   "outputs": [],
   "source": [
    "# Merge the bg and fg/bg\n",
    "import os\n",
    "\n",
    "co3d_2d_orig = \"/home/yoonwoo/data/perfception/perfception_co3d_2d\"\n",
    "assert os.path.exists(co3d_2d_orig)\n",
    "\n",
    "for cls_name in os.listdir(co3d_2d_orig):\n",
    "    cls_path = os.path.join(co3d_2d_orig, cls_name)\n",
    "    for scene_num in os.listdir(cls_path):\n",
    "        scene_path = os.path.join(cls_path, scene_num)\n",
    "        bg_path = os.path.join(scene_path, \"bg\")\n",
    "        # if os.path.exists(bg_path): \n",
    "        #     shutil.rmtree(bg_path)\n",
    "\n",
    "for cls_name in os.listdir(co3d_2d_orig):\n",
    "    cls_path = os.path.join(co3d_2d_orig, cls_name)\n",
    "    for scene_num in os.listdir(cls_path): \n",
    "        scene_path = os.path.join(cls_path, scene_num)\n",
    "        scene_path_src = os.path.join(\"/home/yoonwoo/data/render\", cls_name, scene_num)\n",
    "        pose_path = os.path.join(scene_path_src, \"poses.npy\")\n",
    "        intrinsics_path = os.path.join(scene_path_src, \"intrinsics.npy\")\n",
    "        bg_path = os.path.join(scene_path_src, \"bg\")\n",
    "        assert os.path.exists(pose_path)\n",
    "        assert os.path.exists(intrinsics_path)\n",
    "        assert os.path.exists(bg_path)\n",
    "        assert os.path.exists(scene_path)\n",
    "        shutil.move(pose_path, os.path.join(scene_path, \"poses.npy\"))\n",
    "        shutil.move(intrinsics_path, os.path.join(scene_path, \"intrinsics.npy\"))\n",
    "        shutil.move(bg_path, os.path.join(scene_path, \"bg\"))"
   ]
  },
  {
   "cell_type": "code",
   "execution_count": null,
   "metadata": {},
   "outputs": [],
   "source": []
  }
 ],
 "metadata": {
  "interpreter": {
   "hash": "68f3718ea42175570df1c98c46be3c56e287215895583cda485fe92d043b42e4"
  },
  "kernelspec": {
   "display_name": "Python 3.8.5 ('atp')",
   "language": "python",
   "name": "python3"
  },
  "language_info": {
   "codemirror_mode": {
    "name": "ipython",
    "version": 3
   },
   "file_extension": ".py",
   "mimetype": "text/x-python",
   "name": "python",
   "nbconvert_exporter": "python",
   "pygments_lexer": "ipython3",
   "version": "3.8.5"
  },
  "orig_nbformat": 4
 },
 "nbformat": 4,
 "nbformat_minor": 2
}
