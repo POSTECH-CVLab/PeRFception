{
 "cells": [
  {
   "cell_type": "markdown",
   "metadata": {},
   "source": [
    "# Code for visualizing Plenoxel voxel"
   ]
  },
  {
   "cell_type": "code",
   "execution_count": 1,
   "metadata": {},
   "outputs": [],
   "source": [
    "import os\n",
    "import json\n",
    "# os.environ['DISPLAY']=\":1\"\n",
    "\n",
    "import numpy as np\n",
    "import open3d as o3d\n",
    "import torch"
   ]
  },
  {
   "cell_type": "code",
   "execution_count": 2,
   "metadata": {},
   "outputs": [],
   "source": [
    "def voxel2pcd(ckpt_dir):\n",
    "\n",
    "    path_candidate = os.path.join(ckpt_dir, \"last.ckpt\")\n",
    "    if not os.path.exists(path_candidate):\n",
    "        path_candidate = os.path.join(ckpt_dir, \"data.ckpt\")\n",
    "    ckpt = torch.load(path_candidate)\n",
    "\n",
    "    density = ckpt[\"state_dict\"][\"model.density_data\"].detach().cpu()\n",
    "    links_idx = ckpt[\"state_dict\"][\"model.links_idx\"].detach().cpu()\n",
    "    valid = torch.where(density > 0.0)[0].long()\n",
    "    density, links_idx = density[valid], links_idx[valid].long()\n",
    "\n",
    "    resolution = (\n",
    "        ckpt[\"reso_list\"][\"reso_idx\"] \n",
    "        if \"reso_list\" in ckpt.keys() else \n",
    "        [256, 256, 256]\n",
    "    )\n",
    "    \n",
    "    links_idx = torch.stack(\n",
    "        [\n",
    "            links_idx // (resolution[1] * resolution[2]),\n",
    "            links_idx % (resolution[1] * resolution[2]) // resolution[2],\n",
    "            -links_idx % resolution[2],\n",
    "        ],\n",
    "        -1,\n",
    "    )\n",
    "    pts = links_idx.numpy().astype(np.float64)\n",
    "    pts_color = (density - density.min()) / (density.max() - density.min())\n",
    "    pts_color = pts_color.numpy().astype(np.float64).repeat(3, axis=-1)\n",
    "\n",
    "    pts = np.concatenate([pts], axis=0)\n",
    "    pts_color = np.concatenate([pts_color], axis=0)\n",
    "\n",
    "    pcd = o3d.geometry.PointCloud()\n",
    "    pcd.points = o3d.utility.Vector3dVector(pts)\n",
    "    pcd.colors = o3d.utility.Vector3dVector(pts_color)\n",
    "    o3d.visualization.draw_geometries([pcd])"
   ]
  },
  {
   "cell_type": "code",
   "execution_count": 3,
   "metadata": {},
   "outputs": [],
   "source": [
    "voxel2pcd(\"/home/yoonwoo/Workspace/NeRF-Factory/logs/plenoxel_co3d_106_12648_23157\")"
   ]
  },
  {
   "cell_type": "code",
   "execution_count": 72,
   "metadata": {},
   "outputs": [],
   "source": [
    "path_to_ckpt_dir = \"\"\n",
    "ckpt_dirs = []\n",
    "# ckpt_dirs = [\"plenoxel_torch_110_13051_23361\"]\n",
    "path_to_ckpt_dir = \"/home/yoonwoo/Workspace/NeRF-Factory/logs\"\n",
    "path_to_v1 = \"/home/yoonwoo/data/perfception/perfception_co3d\"\n",
    "ckpt_dirs = [\"plenoxel_co3d_115_13559_29303\"]\n",
    "ckpt_dirs = [f for f in sorted(os.listdir(\"../../logs/\")) if \"plenoxel\" in f]"
   ]
  },
  {
   "cell_type": "code",
   "execution_count": 80,
   "metadata": {},
   "outputs": [],
   "source": [
    "v2_psnr, v1_psnr = [], []\n",
    "v2_ssim, v1_ssim = [], []\n",
    "v2_lpips, v1_lpips = [], []\n",
    "\n",
    "for ckpt_dir in ckpt_dirs: \n",
    "    path_ckpt_dir = os.path.join(path_to_ckpt_dir, ckpt_dir)\n",
    "    path_v1_dir = os.path.join(path_to_v1, ckpt_dir.replace(\"co3d\", \"torch\"))\n",
    "    if not os.path.exists(path_v1_dir):\n",
    "        continue\n",
    "    # voxel2pcd(path_ckpt_dir)\n",
    "    # voxel2pcd(path_v1_dir)\n",
    "    result_v2 = os.path.join(path_to_ckpt_dir,ckpt_dir, \"results.json\")\n",
    "    result_v1 = os.path.join(path_to_v1, ckpt_dir.replace(\"co3d\", \"torch\"), \"results.json\")\n",
    "    with open(result_v2) as fp:\n",
    "        json_file = json.load(fp)\n",
    "        v2_psnr.append(json_file[\"PSNR\"][\"test\"])\n",
    "        v2_ssim.append(json_file[\"SSIM\"][\"test\"])\n",
    "        v2_lpips.append(json_file[\"LPIPS\"][\"test\"])\n",
    "    with open(result_v1) as fp:\n",
    "        json_file = json.load(fp)\n",
    "        v1_psnr.append(json_file[\"PSNR\"][\"test_mean\"])\n",
    "        v1_ssim.append(json_file[\"SSIM\"][\"test_mean\"])\n",
    "        v1_lpips.append(json_file[\"LPIPS-VGG\"][\"test_mean\"])"
   ]
  },
  {
   "cell_type": "code",
   "execution_count": 83,
   "metadata": {},
   "outputs": [
    {
     "name": "stdout",
     "output_type": "stream",
     "text": [
      "v2, v1 PSNR:  27.934632050363643   26.406888197799503\n",
      "v2, v1 SSIM:  0.8345804088994077   0.7940645335536254\n",
      "v2, v1 LPIPS:  0.36206666929157155   0.4027399397210071\n"
     ]
    }
   ],
   "source": [
    "print(\"v2, v1 PSNR: \", np.array(v2_psnr).mean(), \" \", np.array(v1_psnr).mean())\n",
    "print(\"v2, v1 SSIM: \", np.array(v2_ssim).mean(), \" \", np.array(v1_ssim).mean())\n",
    "print(\"v2, v1 LPIPS: \", np.array(v2_lpips).mean(), \" \", np.array(v1_lpips).mean())"
   ]
  },
  {
   "cell_type": "code",
   "execution_count": null,
   "metadata": {},
   "outputs": [],
   "source": []
  }
 ],
 "metadata": {
  "interpreter": {
   "hash": "68327cb5290cd066fc32988c700987102dfc6b9931a40b8ea9c47728386b26ed"
  },
  "kernelspec": {
   "display_name": "Python 3.8.5 ('nerf_factory')",
   "language": "python",
   "name": "python3"
  },
  "language_info": {
   "codemirror_mode": {
    "name": "ipython",
    "version": 3
   },
   "file_extension": ".py",
   "mimetype": "text/x-python",
   "name": "python",
   "nbconvert_exporter": "python",
   "pygments_lexer": "ipython3",
   "version": "3.8.5"
  },
  "orig_nbformat": 4
 },
 "nbformat": 4,
 "nbformat_minor": 2
}
