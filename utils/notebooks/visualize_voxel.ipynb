{
 "cells": [
  {
   "cell_type": "markdown",
   "metadata": {},
   "source": [
    "# Code for visualizing Plenoxel voxel"
   ]
  },
  {
   "cell_type": "code",
   "execution_count": 20,
   "metadata": {},
   "outputs": [],
   "source": [
    "path_to_ckpt_dir = \"\"\n",
    "ckpt_dirs = []\n",
    "# path_to_ckpt_dir = \"/home/yoonwoo/data/perfception/perfception_co3d\"\n",
    "# ckpt_dirs = [\"plenoxel_torch_110_13051_23361\"]\n",
    "path_to_ckpt_dir = \"/home/yoonwoo/Workspace/NeRF-Factory/logs\"\n",
    "ckpt_dirs = [\"plenoxel_co3d_147_16372_32078_test\"]"
   ]
  },
  {
   "cell_type": "code",
   "execution_count": 21,
   "metadata": {},
   "outputs": [],
   "source": [
    "import os\n",
    "os.environ['DISPLAY']=\":1\"\n",
    "\n",
    "import numpy as np\n",
    "import open3d as o3d\n",
    "import torch"
   ]
  },
  {
   "cell_type": "code",
   "execution_count": 22,
   "metadata": {},
   "outputs": [],
   "source": [
    "def voxel2pcd(ckpt_dir):\n",
    "\n",
    "    path_candidate = os.path.join(ckpt_dir, \"last.ckpt\")\n",
    "    if not os.path.exists(path_candidate):\n",
    "        path_candidate = os.path.join(ckpt_dir, \"data.ckpt\")\n",
    "    ckpt = torch.load(path_candidate)\n",
    "\n",
    "    density = ckpt[\"state_dict\"][\"model.density_data\"].detach().cpu()\n",
    "    links_idx = ckpt[\"state_dict\"][\"model.links_idx\"].detach().cpu()\n",
    "    valid = torch.where(density > 0.0)[0].long()\n",
    "    density, links_idx = density[valid], links_idx[valid].long()\n",
    "\n",
    "    resolution = (\n",
    "        ckpt[\"reso_list\"][\"reso_idx\"] \n",
    "        if \"reso_list\" in ckpt.keys() else \n",
    "        # [256, 256, 256]\n",
    "        [128, 128, 128]\n",
    "    )\n",
    "    \n",
    "    links_idx = torch.stack(\n",
    "        [\n",
    "            links_idx // (resolution[1] * resolution[2]),\n",
    "            links_idx % (resolution[1] * resolution[2]) // resolution[2],\n",
    "            -links_idx % resolution[2],\n",
    "        ],\n",
    "        -1,\n",
    "    )\n",
    "    pts = links_idx.numpy().astype(np.float64)\n",
    "    pts_color = (density - density.min()) / (density.max() - density.min())\n",
    "    pts_color = pts_color.numpy().astype(np.float64).repeat(3, axis=-1)\n",
    "\n",
    "    pts = np.concatenate([pts], axis=0)\n",
    "    pts_color = np.concatenate([pts_color], axis=0)\n",
    "\n",
    "    pcd = o3d.geometry.PointCloud()\n",
    "    pcd.points = o3d.utility.Vector3dVector(pts)\n",
    "    pcd.colors = o3d.utility.Vector3dVector(pts_color)\n",
    "    o3d.visualization.draw_geometries([pcd])"
   ]
  },
  {
   "cell_type": "code",
   "execution_count": 23,
   "metadata": {},
   "outputs": [],
   "source": [
    "for ckpt_dir in ckpt_dirs: \n",
    "    path_ckpt_dir = os.path.join(path_to_ckpt_dir, ckpt_dir)\n",
    "    voxel2pcd(path_ckpt_dir)"
   ]
  },
  {
   "cell_type": "code",
   "execution_count": null,
   "metadata": {},
   "outputs": [],
   "source": []
  }
 ],
 "metadata": {
  "interpreter": {
   "hash": "68327cb5290cd066fc32988c700987102dfc6b9931a40b8ea9c47728386b26ed"
  },
  "kernelspec": {
   "display_name": "Python 3.8.5 ('nerf_factory')",
   "language": "python",
   "name": "python3"
  },
  "language_info": {
   "codemirror_mode": {
    "name": "ipython",
    "version": 3
   },
   "file_extension": ".py",
   "mimetype": "text/x-python",
   "name": "python",
   "nbconvert_exporter": "python",
   "pygments_lexer": "ipython3",
   "version": "3.8.5"
  },
  "orig_nbformat": 4
 },
 "nbformat": 4,
 "nbformat_minor": 2
}
