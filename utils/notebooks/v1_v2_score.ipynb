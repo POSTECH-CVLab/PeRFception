{
 "cells": [
  {
   "cell_type": "code",
   "execution_count": 9,
   "metadata": {},
   "outputs": [],
   "source": [
    "import os\n",
    "import json\n",
    "import numpy as np"
   ]
  },
  {
   "cell_type": "code",
   "execution_count": 5,
   "metadata": {},
   "outputs": [],
   "source": [
    "v1_v2_path = \"/home/yoonwoo/data/perfception/single_v2_log/\"\n",
    "scene_list = os.listdir(v1_v2_path)\n",
    "v1_list, v2_list = [], []\n",
    "for scene in scene_list:\n",
    "    scene_path = os.path.join(v1_v2_path, scene)\n",
    "    if \"v1\" in scene:\n",
    "        v1_list.append(scene_path)\n",
    "        assert os.path.exists(os.path.join(scene_path, \"results.json\"))\n",
    "    if \"v2\" in scene:\n",
    "        v2_list.append(scene_path)\n",
    "        assert os.path.exists(os.path.join(scene_path, \"results.json\"))"
   ]
  },
  {
   "cell_type": "code",
   "execution_count": 10,
   "metadata": {},
   "outputs": [
    {
     "name": "stdout",
     "output_type": "stream",
     "text": [
      "28.818891472286648\n",
      "0.8507727715704176\n",
      "0.3533864857421981\n",
      "29.86061403486464\n",
      "0.8563342110978233\n",
      "0.3178743819395701\n"
     ]
    }
   ],
   "source": [
    "select_list = [v1_list, v2_list]\n",
    "for v_list in select_list:\n",
    "    psnr, ssim, lpips = [], [], []\n",
    "    for scene in v_list:\n",
    "        with open(os.path.join(scene, \"results.json\")) as fp:\n",
    "            json_file = json.load(fp)\n",
    "        psnr.append(json_file[\"PSNR\"][\"test\"])\n",
    "        ssim.append(json_file[\"SSIM\"][\"test\"])\n",
    "        lpips.append(json_file[\"LPIPS\"][\"test\"])\n",
    "    print(np.mean(np.array(psnr)))\n",
    "    print(np.mean(np.array(ssim)))\n",
    "    print(np.mean(np.array(lpips)))"
   ]
  },
  {
   "cell_type": "code",
   "execution_count": null,
   "metadata": {},
   "outputs": [],
   "source": []
  },
  {
   "cell_type": "code",
   "execution_count": null,
   "metadata": {},
   "outputs": [],
   "source": []
  }
 ],
 "metadata": {
  "kernelspec": {
   "display_name": "Python 3.8.13 ('perfception')",
   "language": "python",
   "name": "python3"
  },
  "language_info": {
   "codemirror_mode": {
    "name": "ipython",
    "version": 3
   },
   "file_extension": ".py",
   "mimetype": "text/x-python",
   "name": "python",
   "nbconvert_exporter": "python",
   "pygments_lexer": "ipython3",
   "version": "3.8.13"
  },
  "orig_nbformat": 4,
  "vscode": {
   "interpreter": {
    "hash": "b471587bbe11c509fa4c273e3c27dad8d0f74f51357e50e66bf733daf1d8a5fb"
   }
  }
 },
 "nbformat": 4,
 "nbformat_minor": 2
}
