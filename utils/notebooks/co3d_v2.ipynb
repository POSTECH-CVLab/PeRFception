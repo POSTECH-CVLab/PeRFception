{
 "cells": [
  {
   "cell_type": "code",
   "execution_count": 1,
   "metadata": {},
   "outputs": [],
   "source": [
    "import os\n",
    "import json"
   ]
  },
  {
   "cell_type": "code",
   "execution_count": 2,
   "metadata": {},
   "outputs": [],
   "source": [
    "data_path = \"../../data/co3d_v2/\"\n",
    "json_path = os.path.join(\n",
    "    data_path,\n",
    "    \"category_to_subset_name_list_singlesequence.json\"\n",
    ")\n",
    "\n",
    "with open(json_path) as fp:\n",
    "    json_file = json.load(fp)"
   ]
  },
  {
   "cell_type": "code",
   "execution_count": 21,
   "metadata": {},
   "outputs": [
    {
     "name": "stdout",
     "output_type": "stream",
     "text": [
      "110_13051_23361 apple\n",
      "189_20393_38136 backpack\n",
      "375_42693_85518 ball\n",
      "123_14363_28981 banana\n",
      "123_14363_28981 baseballbat\n",
      "123_14363_28981 baseballglove\n",
      "415_57112_110099 bench\n",
      "415_57121_110109 bicycle\n",
      "119_13962_28926 book\n",
      "247_26469_51778 bottle\n",
      "70_5792_13401 bowl\n",
      "412_56288_108844 broccoli\n",
      "403_53094_103680 cake\n",
      "374_42274_84517 car\n",
      "374_42274_84517 carrot\n",
      "374_42274_84517 cellphone\n",
      "374_42274_84517 chair\n",
      "374_42274_84517 couch\n",
      "374_42274_84517 cup\n",
      "403_52964_103416 donut\n",
      "391_47032_93657 frisbee\n",
      "391_47032_93657 hairdryer\n",
      "391_47032_93657 handbag\n",
      "391_47032_93657 hotdog\n",
      "411_56064_108483 hydrant\n",
      "167_18184_34441 keyboard\n",
      "167_18184_34441 kite\n",
      "167_18184_34441 laptop\n",
      "167_18184_34441 motorcycle\n",
      "107_12753_23606 mouse\n",
      "374_42196_84367 orange\n",
      "385_45386_90752 parkingmeter\n",
      "385_45386_90752 pizza\n",
      "374_42005_84358 plant\n",
      "195_20989_41543 remote\n",
      "350_36761_68623 sandwich\n",
      "366_39266_76077 skateboard\n",
      "410_55734_107452 suitcase\n",
      "187_20215_38541 teddybear\n",
      "416_57389_110765 toaster\n",
      "372_41229_82130 toilet\n",
      "372_41229_82130 toybus\n",
      "372_41229_82130 toyplane\n",
      "399_51323_100753 toytrain\n",
      "346_36113_66551 toytruck\n",
      "190_20494_39385 umbrella\n",
      "380_44863_89631 vase\n",
      "374_41862_83720 wineglass\n"
     ]
    }
   ],
   "source": [
    "scene_list = []\n",
    "del_list = []\n",
    "\n",
    "for cls_name in json_file.keys():\n",
    "    if len(json_file[cls_name]) == 0:\n",
    "        continue\n",
    "    cls_path = os.path.join(data_path, cls_name)\n",
    "    set_lists_path = os.path.join(cls_path, \"set_lists\")\n",
    "    for set_lists_file in os.listdir(set_lists_path):\n",
    "        set_lists_file = os.path.join(set_lists_path, set_lists_file)\n",
    "        if \"dev\" in set_lists_file:\n",
    "            with open(set_lists_file) as fp: \n",
    "                dev_file = json.load(fp)\n",
    "            scene_list.append(dev_file[\"train\"][0][0])\n",
    "            # print(dev_file[\"train\"][0][0], cls_name)\n",
    "        else:\n",
    "            # print(dev_file[\"train\"][0][0], cls_name)\n",
    "            del_list.append(os.path.join(cls_name, dev_file[\"train\"][0][0], ))"
   ]
  },
  {
   "cell_type": "code",
   "execution_count": 12,
   "metadata": {},
   "outputs": [],
   "source": [
    "co3d_v1_path = os.path.join(\"/home/yoonwoo/data/perfception/perfception_co3d\")\n",
    "shared_scenes = []\n",
    "missing_scenes = []\n",
    "for scene in scene_list:\n",
    "    scene_dir = int(scene.split(\"_\")[-1]) % 100\n",
    "    scene_path = os.path.join(\n",
    "        co3d_v1_path, \n",
    "        str(scene_dir),\n",
    "        f\"plenoxel_co3d_{scene}\"\n",
    "    )\n",
    "    if os.path.exists(scene_path):\n",
    "        shared_scenes.append(scene)\n",
    "    else:\n",
    "        missing_scenes.append(scene)"
   ]
  },
  {
   "cell_type": "code",
   "execution_count": 13,
   "metadata": {},
   "outputs": [
    {
     "name": "stdout",
     "output_type": "stream",
     "text": [
      "- 415_57121_110109\n",
      "- 70_5792_13401\n",
      "- 107_12753_23606\n",
      "- 247_26441_50907\n"
     ]
    }
   ],
   "source": [
    "for scene in missing_scenes:\n",
    "    print(f\"- {scene}\")"
   ]
  },
  {
   "cell_type": "code",
   "execution_count": 23,
   "metadata": {},
   "outputs": [
    {
     "name": "stdout",
     "output_type": "stream",
     "text": [
      "/home/yoonwoo/data/perfception/single_v2/apple/110_13051_23361\n",
      "/home/yoonwoo/data/perfception/single_v2/backpack/189_20393_38136\n",
      "/home/yoonwoo/data/perfception/single_v2/ball/375_42693_85518\n",
      "/home/yoonwoo/data/perfception/single_v2/banana/123_14363_28981\n",
      "/home/yoonwoo/data/perfception/single_v2/baseballbat/123_14363_28981\n",
      "/home/yoonwoo/data/perfception/single_v2/baseballglove/123_14363_28981\n",
      "/home/yoonwoo/data/perfception/single_v2/bench/415_57112_110099\n",
      "/home/yoonwoo/data/perfception/single_v2/bicycle/415_57121_110109\n",
      "/home/yoonwoo/data/perfception/single_v2/book/119_13962_28926\n",
      "/home/yoonwoo/data/perfception/single_v2/bottle/247_26469_51778\n",
      "/home/yoonwoo/data/perfception/single_v2/bowl/70_5792_13401\n",
      "/home/yoonwoo/data/perfception/single_v2/broccoli/412_56288_108844\n",
      "/home/yoonwoo/data/perfception/single_v2/cake/403_53094_103680\n",
      "/home/yoonwoo/data/perfception/single_v2/car/374_42274_84517\n",
      "/home/yoonwoo/data/perfception/single_v2/carrot/374_42274_84517\n",
      "/home/yoonwoo/data/perfception/single_v2/cellphone/374_42274_84517\n",
      "/home/yoonwoo/data/perfception/single_v2/chair/374_42274_84517\n",
      "/home/yoonwoo/data/perfception/single_v2/couch/374_42274_84517\n",
      "/home/yoonwoo/data/perfception/single_v2/cup/374_42274_84517\n",
      "/home/yoonwoo/data/perfception/single_v2/donut/403_52964_103416\n",
      "/home/yoonwoo/data/perfception/single_v2/frisbee/391_47032_93657\n",
      "/home/yoonwoo/data/perfception/single_v2/hairdryer/391_47032_93657\n",
      "/home/yoonwoo/data/perfception/single_v2/handbag/391_47032_93657\n",
      "/home/yoonwoo/data/perfception/single_v2/hotdog/391_47032_93657\n",
      "/home/yoonwoo/data/perfception/single_v2/hydrant/411_56064_108483\n",
      "/home/yoonwoo/data/perfception/single_v2/keyboard/167_18184_34441\n",
      "/home/yoonwoo/data/perfception/single_v2/kite/167_18184_34441\n",
      "/home/yoonwoo/data/perfception/single_v2/laptop/167_18184_34441\n",
      "/home/yoonwoo/data/perfception/single_v2/motorcycle/167_18184_34441\n",
      "/home/yoonwoo/data/perfception/single_v2/mouse/107_12753_23606\n",
      "/home/yoonwoo/data/perfception/single_v2/orange/374_42196_84367\n",
      "/home/yoonwoo/data/perfception/single_v2/parkingmeter/385_45386_90752\n",
      "/home/yoonwoo/data/perfception/single_v2/pizza/385_45386_90752\n",
      "/home/yoonwoo/data/perfception/single_v2/plant/374_42005_84358\n",
      "/home/yoonwoo/data/perfception/single_v2/remote/195_20989_41543\n",
      "/home/yoonwoo/data/perfception/single_v2/sandwich/350_36761_68623\n",
      "/home/yoonwoo/data/perfception/single_v2/skateboard/366_39266_76077\n",
      "/home/yoonwoo/data/perfception/single_v2/suitcase/410_55734_107452\n",
      "/home/yoonwoo/data/perfception/single_v2/teddybear/187_20215_38541\n",
      "/home/yoonwoo/data/perfception/single_v2/toaster/416_57389_110765\n",
      "/home/yoonwoo/data/perfception/single_v2/toilet/372_41229_82130\n",
      "/home/yoonwoo/data/perfception/single_v2/toybus/372_41229_82130\n",
      "/home/yoonwoo/data/perfception/single_v2/toyplane/372_41229_82130\n",
      "/home/yoonwoo/data/perfception/single_v2/toytrain/399_51323_100753\n",
      "/home/yoonwoo/data/perfception/single_v2/toytruck/346_36113_66551\n",
      "/home/yoonwoo/data/perfception/single_v2/umbrella/190_20494_39385\n",
      "/home/yoonwoo/data/perfception/single_v2/vase/380_44863_89631\n",
      "/home/yoonwoo/data/perfception/single_v2/wineglass/374_41862_83720\n"
     ]
    }
   ],
   "source": [
    "import shutil\n",
    "path_to_v2 = \"/home/yoonwoo/data/perfception/single_v2/\"\n",
    "dest = \"/home/yoonwoo/data/perfception/v2_test\"\n",
    "\n",
    "for path in del_list:\n",
    "    scene_path = os.path.join(path_to_v2, path)\n",
    "    print(scene_path)\n",
    "    # if os.path.exists(scene_path):\n",
    "        # shutil.rmtree(scene_path)\n"
   ]
  },
  {
   "cell_type": "code",
   "execution_count": null,
   "metadata": {},
   "outputs": [],
   "source": [
    "import os\n",
    "import shutil\n",
    "dest = \"/home/yoonwoo/data/perfception/v2_test\"\n"
   ]
  }
 ],
 "metadata": {
  "kernelspec": {
   "display_name": "perfception",
   "language": "python",
   "name": "perfception"
  },
  "language_info": {
   "codemirror_mode": {
    "name": "ipython",
    "version": 3
   },
   "file_extension": ".py",
   "mimetype": "text/x-python",
   "name": "python",
   "nbconvert_exporter": "python",
   "pygments_lexer": "ipython3",
   "version": "3.8.13"
  },
  "vscode": {
   "interpreter": {
    "hash": "b471587bbe11c509fa4c273e3c27dad8d0f74f51357e50e66bf733daf1d8a5fb"
   }
  }
 },
 "nbformat": 4,
 "nbformat_minor": 4
}
