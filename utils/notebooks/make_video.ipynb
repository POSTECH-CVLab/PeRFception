{
 "cells": [
  {
   "cell_type": "code",
   "execution_count": 5,
   "metadata": {},
   "outputs": [],
   "source": [
    "import os\n",
    "import imageio\n",
    "from PIL import Image\n",
    "import numpy as np"
   ]
  },
  {
   "cell_type": "code",
   "execution_count": 14,
   "metadata": {},
   "outputs": [
    {
     "name": "stderr",
     "output_type": "stream",
     "text": [
      "IMAGEIO FFMPEG_WRITER WARNING: input image is not divisible by macro_block_size=16, resizing from (168, 300) to (176, 304) to ensure video compatibility with most codecs and players. To prevent resizing, make your input image divisible by the macro_block_size or set the macro_block_size to 1 (risking incompatibility).\n",
      "[swscaler @ 0x6977780] Warning: data is not aligned! This can lead to a speed loss\n",
      "IMAGEIO FFMPEG_WRITER WARNING: input image is not divisible by macro_block_size=16, resizing from (168, 300) to (176, 304) to ensure video compatibility with most codecs and players. To prevent resizing, make your input image divisible by the macro_block_size or set the macro_block_size to 1 (risking incompatibility).\n",
      "[swscaler @ 0x6414a00] Warning: data is not aligned! This can lead to a speed loss\n",
      "IMAGEIO FFMPEG_WRITER WARNING: input image is not divisible by macro_block_size=16, resizing from (168, 300) to (176, 304) to ensure video compatibility with most codecs and players. To prevent resizing, make your input image divisible by the macro_block_size or set the macro_block_size to 1 (risking incompatibility).\n",
      "[swscaler @ 0x6e96a00] Warning: data is not aligned! This can lead to a speed loss\n"
     ]
    },
    {
     "name": "stdout",
     "output_type": "stream",
     "text": [
      "remote 117_13756_28310\n"
     ]
    }
   ],
   "source": [
    "render_path = \"../../render\"\n",
    "cls_list = os.listdir(render_path)\n",
    "for cls_name in cls_list: \n",
    "    cls_path = os.path.join(render_path, cls_name)\n",
    "    seq_list = os.listdir(cls_path)\n",
    "    for seq in seq_list: \n",
    "        seq_path = os.path.join(cls_path, seq)\n",
    "        assets_list = [\"fg\", \"fgbg\", \"mask\"]\n",
    "        for asset in assets_list:\n",
    "            asset_path = os.path.join(seq_path, asset)\n",
    "            img_path_list = os.listdir(asset_path)\n",
    "            img_list = []\n",
    "            for img in img_path_list:\n",
    "                if img.endswith(\".mp4\"):\n",
    "                    continue\n",
    "                imgpath = os.path.join(asset_path, img)\n",
    "                img_list.append(np.asarray(Image.open(imgpath)))\n",
    "            imageio.mimwrite(os.path.join(asset_path, f\"{seq}_{asset}.mp4\"), img_list)\n",
    "        print(cls_name, seq)\n",
    "        break\n",
    "    break\n"
   ]
  },
  {
   "cell_type": "code",
   "execution_count": null,
   "metadata": {},
   "outputs": [],
   "source": []
  }
 ],
 "metadata": {
  "kernelspec": {
   "display_name": "Python 3.8.13 ('perfception')",
   "language": "python",
   "name": "python3"
  },
  "language_info": {
   "codemirror_mode": {
    "name": "ipython",
    "version": 3
   },
   "file_extension": ".py",
   "mimetype": "text/x-python",
   "name": "python",
   "nbconvert_exporter": "python",
   "pygments_lexer": "ipython3",
   "version": "3.8.13"
  },
  "orig_nbformat": 4,
  "vscode": {
   "interpreter": {
    "hash": "b471587bbe11c509fa4c273e3c27dad8d0f74f51357e50e66bf733daf1d8a5fb"
   }
  }
 },
 "nbformat": 4,
 "nbformat_minor": 2
}
